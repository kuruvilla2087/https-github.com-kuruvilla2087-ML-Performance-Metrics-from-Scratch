{
 "cells": [
  {
   "cell_type": "markdown",
   "metadata": {
    "colab_type": "text",
    "id": "s0Ej_bXyQvnV"
   },
   "source": [
    "# Compute performance metrics for the given Y and Y_score without sklearn"
   ]
  },
  {
   "cell_type": "code",
   "execution_count": 1,
   "metadata": {
    "colab": {},
    "colab_type": "code",
    "id": "4CHb6NE7Qvnc"
   },
   "outputs": [],
   "source": [
    "#### \n",
    "import numpy as np\n",
    "import pandas as pd\n",
    "from tqdm import tqdm\n",
    "import matplotlib.pyplot as plt\n",
    "\n",
    "# other than these two you should not import any other packages"
   ]
  },
  {
   "cell_type": "code",
   "execution_count": 36,
   "metadata": {},
   "outputs": [],
   "source": [
    "class Calculate_Metrics:\n",
    "    def __init__(self,y_actual,y_pred,thresholds,n_val):\n",
    "        self.y_actual = y_actual\n",
    "        self.y_pred = y_pred\n",
    "        self.thresholds = thresholds\n",
    "        self.n_val = n_val\n",
    "    \n",
    "    def Confusion_Matrix(self):\n",
    "        \"\"\"\n",
    "        # Function to Calculate Confusion Matrix\n",
    "        \"\"\"\n",
    "        TP = 0\n",
    "        FP = 0\n",
    "        TN = 0\n",
    "        FN = 0\n",
    "        for i in range(len(self.y_pred)): \n",
    "            if (self.y_actual[i]==1 and self.y_pred[i]==1):\n",
    "                TP +=1\n",
    "            elif (self.y_actual[i]==0 and self.y_actual[i]!=self.y_pred[i]):\n",
    "                FP +=1    \n",
    "            elif (self.y_actual[i]==1 and self.y_actual[i]!=self.y_pred[i]):\n",
    "                FN +=1\n",
    "            elif (self.y_actual[i]==0 and self.y_pred[i]==0):\n",
    "                TN +=1\n",
    "        cm = np.array([[TN,FN],[FP ,TP]])        \n",
    "        return cm,TN,FN,FP,TP\n",
    "    \n",
    "    \n",
    "    def F1_score(self):\n",
    "        \"\"\"\n",
    "        # Function to Calculate F1_score\n",
    "        \"\"\"\n",
    "        TP = 0\n",
    "        TPFP = 0\n",
    "        TPFN = 0\n",
    "        for i in range(len(self.y_pred)):\n",
    "            if (self.y_actual[i]==1 and self.y_pred[i]==1):\n",
    "                    TP +=1\n",
    "        for i in range(len(self.y_pred)):\n",
    "            if (self.y_pred[i]==1):\n",
    "                    TPFP +=1 \n",
    "        for i in range(len(self.y_pred)):\n",
    "            if (self.y_actual[i]==1):\n",
    "                    TPFN +=1\n",
    "        return TP,TPFP,TPFN\n",
    "    \n",
    "    def Threshold(self):\n",
    "        \"\"\"\n",
    "        # Function to Calculate Threshold\n",
    "        \"\"\"\n",
    "        low = min(self.thresholds)\n",
    "        high = max(self.thresholds)\n",
    "        step = (abs(low) + abs(high))/self.n_val\n",
    "        thresholds = np.arange(low-step,high+step, step)\n",
    "        return thresholds\n",
    "    \n",
    "    def AUC(self):\n",
    "        \"\"\"\n",
    "        # Function to Calculate AUC\n",
    "        \"\"\"\n",
    "        V=[]\n",
    "        D=[]\n",
    "        F_N = []\n",
    "        F_P = []\n",
    "#         len(proba)\n",
    "        for i in tqdm(range(len(self.thresholds)),position=0, leave=True):\n",
    "            A=[]\n",
    "            for j in self.thresholds:\n",
    "                \n",
    "                if self.thresholds[i]<= j: \n",
    "                    A.append(1)\n",
    "                else:\n",
    "                    A.append(0)\n",
    "                \n",
    "            TP=0\n",
    "            FN=0\n",
    "            FP=0\n",
    "            TN=0\n",
    "            for i in range(len(self.y_actual)):\n",
    "                if (self.y_actual[i]==1 and A[i]==1):\n",
    "                    TP +=1\n",
    "                elif (self.y_actual[i]==0 and A[i]==1):\n",
    "                    FP +=1\n",
    "                elif (self.y_actual[i]==1 and A[i]==0):\n",
    "                    FN +=1\n",
    "                elif (self.y_actual[i]==0 and A[i]==0):\n",
    "                    TN +=1\n",
    "\n",
    "            TPR=TP/(TP+FN)\n",
    "            V.append(TPR)\n",
    "            F_N.append(FN)\n",
    "            FPR=FP/(FP+TN)\n",
    "            F_P.append(F_P)\n",
    "            D.append(FPR)\n",
    "        tpr_arr=np.array(V)\n",
    "        fpr_arr=np.array(D)\n",
    "        tpr_arr = sorted(tpr_arr,key=float)\n",
    "        fpr_arr = sorted(fpr_arr,key=float)\n",
    "        auc = np.trapz(tpr_arr,fpr_arr)\n",
    "        return auc,fpr_arr,tpr_arr,FP,FN"
   ]
  },
  {
   "cell_type": "code",
   "execution_count": 11,
   "metadata": {},
   "outputs": [],
   "source": [
    "def print_performance_metrics(FPR,TPR,roc_auc):\n",
    "    '''Prints performance metrics given actual , predicted values. Predicted probability values are optional\n",
    "    Parameters:\n",
    "    ----------\n",
    "    actual: array of y-values\n",
    "    preds: array of predicted values\n",
    "    pred_probs: array of predicted probabilityes\n",
    "    Returns:\n",
    "    ------\n",
    "    None. Prints confusion matrixs and ROC curve\n",
    "    \n",
    "    '''\n",
    "    plt.plot(FPR,TPR,label='ROC curve (area = %0.2f)' %roc_auc)\n",
    "    plt.xlabel('False positive rate')\n",
    "    plt.ylabel('True positive rate')\n",
    "    plt.title('ROC curve')\n",
    "    plt.show()\n",
    "    print(\"AUC - \",roc_auc)"
   ]
  },
  {
   "cell_type": "code",
   "execution_count": 41,
   "metadata": {},
   "outputs": [],
   "source": [
    "def Results(y_act_int,y_pred_in_1,y_prob,n_val):\n",
    "    #Confusion Matrix\n",
    "    \n",
    "    p1_conf = Calculate_Metrics(y_act_int,y_pred_in_1,y_pred_in_1,n_val)\n",
    "    cm,TN,FN,FP,TP = p1_conf.Confusion_Matrix()\n",
    "    matrix = np.array([[TN,FN],[FP,TP]])\n",
    "    unique_set = set(y_act_int) \n",
    "    unique_set = list(int(i) for i in unique_set)\n",
    "    Accuracy_score=(TP+TN)/(TP+TN+FP+FN)\n",
    "#     print(Accuracy_score)\n",
    " \n",
    "    #F1 Score\n",
    "    p1_F1 = Calculate_Metrics(y_act_int,y_pred_in_1,y_pred_in_1,n_val)\n",
    "    TP,TPFN,TPFP = p1_F1.F1_score()\n",
    "    Recall=TP/TPFN\n",
    "    precision=TP/TPFP\n",
    "    F1_score = 2*(Recall*precision)/(Recall+precision)\n",
    "    \n",
    "    #Calculating AUC Score\n",
    "    p_thresh = Calculate_Metrics(y_act_int,y_prob,y_prob,n_val)\n",
    "    thresholds = p_thresh.Threshold()\n",
    "    thresholds =sorted(thresholds)\n",
    "    proba=np.array(thresholds)\n",
    "    actual=np.array(y_act_int)\n",
    "    p1_AUC = Calculate_Metrics(actual,y_prob,proba,n_val)\n",
    "    roc_auc,FPR,TPR,FP,FN = p1_AUC.AUC()\n",
    "#     Accuracy_score=(TP+TN)/(TP+TN+FP+FN)\n",
    "#     print(Accuracy_score)\n",
    "    \n",
    "    return cm,unique_set,Recall,precision,F1_score,roc_auc,TPR,FPR,Accuracy_score"
   ]
  },
  {
   "cell_type": "code",
   "execution_count": 42,
   "metadata": {},
   "outputs": [
    {
     "name": "stdout",
     "output_type": "stream",
     "text": [
      "# **************************Task1************************************\n"
     ]
    },
    {
     "name": "stderr",
     "output_type": "stream",
     "text": [
      "100%|██████████| 10100/10100 [02:25<00:00, 69.64it/s]\n"
     ]
    },
    {
     "name": "stdout",
     "output_type": "stream",
     "text": [
      "(A)0 1\n",
      "(P)---\n",
      "0| 0 0\n",
      "1| 100 10000\n",
      "Recall is:0.990 ,Precision is:1.000,F1_score is:0.995,roc_auc is:0.488,Accuracy score is:0.990\n"
     ]
    },
    {
     "data": {
      "image/png": "[encoded data removed]",
      "text/plain": [
       "<Figure size 432x288 with 1 Axes>"
      ]
     },
     "metadata": {
      "needs_background": "light"
     },
     "output_type": "display_data"
    },
    {
     "name": "stdout",
     "output_type": "stream",
     "text": [
      "AUC -  0.48829900000000004\n",
      " ******************************Task2\n"
     ]
    },
    {
     "name": "stderr",
     "output_type": "stream",
     "text": [
      "100%|██████████| 10111/10111 [03:20<00:00, 50.41it/s]\n"
     ]
    },
    {
     "name": "stdout",
     "output_type": "stream",
     "text": [
      "(A)0 1\n",
      "(P)---\n",
      "0| 9761 45\n",
      "1| 239 55\n",
      "Recall is:0.187 ,Precision is:0.550,F1_score is:0.279,roc_auc is:0.938,Accuracy score is:0.972\n"
     ]
    },
    {
     "data": {
      "image/png": "[encoded data removed]",
      "text/plain": [
       "<Figure size 432x288 with 1 Axes>"
      ]
     },
     "metadata": {
      "needs_background": "light"
     },
     "output_type": "display_data"
    },
    {
     "name": "stdout",
     "output_type": "stream",
     "text": [
      "AUC -  0.937757\n",
      " ******************************Task2\n"
     ]
    }
   ],
   "source": [
    "if __name__ == \"__main__\":\n",
    "    print('# **************************Task1************************************')\n",
    "    Dict = [{'file':'5_a.csv','n_val':35345},{'file':'5_b.csv','n_val':14190}]\n",
    "    for i,val in enumerate(Dict):   \n",
    "        df = pd.read_csv(val['file'])\n",
    "        df = df.sort_values(by='proba' ,kind='mergesort')\n",
    "        df['Thresh'] = df.apply(lambda x:0 if x['proba'] < 0.5 else 1,axis=1)\n",
    "        y_act_int=df.y\n",
    "        y_pred_in_1=df.Thresh\n",
    "        y_prob = df.proba\n",
    "        matrix,unique_set,Recall,precision,F1_score,roc_auc,TPR,FPR,Accuracy_score = Results(y_act_int,y_pred_in_1,y_prob,val['n_val'])\n",
    "        print('(A)' + ' '.join(str(x) for x in unique_set))\n",
    "        print('(P)---')\n",
    "        for i, x in enumerate(unique_set):\n",
    "            print(\"%s| %s\" % (x, ' '.join(str(x) for x in matrix[i]))) \n",
    "        print('Recall is:%.3f ,Precision is:%.3f,F1_score is:%.3f,roc_auc is:%.3f,Accuracy score is:%.3f'% (Recall,precision,F1_score,roc_auc,Accuracy_score))\n",
    "        print_performance_metrics(FPR,TPR,roc_auc)\n",
    "        print(end =\" ******************************\")\n",
    "        print(\"Task2\")"
   ]
  },
  {
   "cell_type": "markdown",
   "metadata": {
    "colab_type": "text",
    "id": "GiPGonTzQvoB"
   },
   "source": [
    "<font color='red'><b>C.</b></font> Compute the best threshold (similarly to ROC curve computation) of probability which gives lowest values of metric <b>A</b> for the given data <strong>5_c.csv</strong>\n",
    "<br>\n",
    "\n",
    "you will be predicting label of a data points like this: $y^{pred}= \\text{[0 if y_score < threshold  else 1]}$\n",
    "\n",
    "$ A = 500 \\times \\text{number of false negative} + 100 \\times \\text{numebr of false positive}$\n",
    "\n",
    "<pre>\n",
    "   <b>Note 1:</b> in this data you can see number of negative points > number of positive points\n",
    "   <b>Note 2:</b> use pandas or numpy to read the data from <b>5_c.csv</b>\n",
    "</pre>"
   ]
  },
  {
   "cell_type": "code",
   "execution_count": 43,
   "metadata": {
    "colab": {},
    "colab_type": "code",
    "id": "x5HIJzq1QvoE"
   },
   "outputs": [],
   "source": [
    "data = pd.read_csv('5_c.csv')\n",
    "df = data.sort_values(by='prob' ,kind='mergesort',ascending=False)\n",
    "n_val= 100"
   ]
  },
  {
   "cell_type": "code",
   "execution_count": 48,
   "metadata": {},
   "outputs": [],
   "source": [
    "def best_Thresh(df):\n",
    "    A=[]\n",
    "    for i in df.iloc[:,1]:\n",
    "        y_dash=np.array([1 if j>=i else 0 for j in df.iloc[:,1]])\n",
    "        #creates y_pred according to given treshold values\n",
    "        p1_conf = Calculate_Metrics(np.array(df.iloc[:,0]),np.array(y_dash),np.array(y_dash),n_val)\n",
    "        c_m1,TN,FN,FP,TP = p1_conf.Confusion_Matrix()\n",
    "        #calculates a according to given equation\n",
    "        A.append(500*c_m1[0,1]+100*c_m1[1,0])\n",
    "    c=A.index(min(A))             \n",
    "    return df.iloc[c,1] "
   ]
  },
  {
   "cell_type": "code",
   "execution_count": 49,
   "metadata": {},
   "outputs": [
    {
     "data": {
      "text/plain": [
       "0.2300390278970873"
      ]
     },
     "execution_count": 49,
     "metadata": {},
     "output_type": "execute_result"
    }
   ],
   "source": [
    "best_Thresh(df)"
   ]
  },
  {
   "cell_type": "markdown",
   "metadata": {
    "colab_type": "text",
    "id": "sD4CcgjXQvoL"
   },
   "source": [
    "<pre>\n",
    "<font color='red'><b>D.</b></font> Compute performance metrics(for regression) for the given data <strong>5_d.csv</strong>\n",
    "    <b>Note 2:</b> use pandas or numpy to read the data from <b>5_d.csv</b>\n",
    "    <b>Note 1:</b> <b>5_d.csv</b> will having two columns Y and predicted_Y both are real valued features\n",
    "<ol>\n",
    "<li> Compute Mean Square Error </li>\n",
    "<li> Compute MAPE: https://www.youtube.com/watch?v=ly6ztgIkUxk</li>\n",
    "<li> Compute R^2 error: https://en.wikipedia.org/wiki/Coefficient_of_determination#Definitions </li>\n",
    "</ol>\n",
    "</pre>"
   ]
  },
  {
   "cell_type": "code",
   "execution_count": 22,
   "metadata": {},
   "outputs": [],
   "source": [
    "data=pd.read_csv(\"5_d.csv\")\n",
    "n = len(data)"
   ]
  },
  {
   "cell_type": "markdown",
   "metadata": {},
   "source": [
    "# Mean Square Error "
   ]
  },
  {
   "cell_type": "markdown",
   "metadata": {},
   "source": [
    "The mean squared error tells you how close a regression line is to a set of points. It does this by taking the distances from the points to the regression line (these distances are the “errors”) and squaring them. The squaring is necessary to remove any negative signs."
   ]
  },
  {
   "cell_type": "code",
   "execution_count": 25,
   "metadata": {},
   "outputs": [
    {
     "name": "stdout",
     "output_type": "stream",
     "text": [
      "Mean square value is: 177.16569974554707\n"
     ]
    }
   ],
   "source": [
    "Act = data.y\n",
    "Pred = data.pred\n",
    "sum_error = 0\n",
    "for i in range(len(data)):\n",
    "    err = (Act[i] - Pred[i])*(Act[i] - Pred[i])\n",
    "    sum_error += err\n",
    "mean_sq_er = (1/n)*(sum_error)\n",
    "print(\"Mean square value is:\",mean_sq_er)     "
   ]
  },
  {
   "cell_type": "markdown",
   "metadata": {},
   "source": [
    "# MAPE"
   ]
  },
  {
   "cell_type": "markdown",
   "metadata": {},
   "source": [
    "The formulae for MAPE is =Summation(((Actual_val-Predicted_val)/Actual_val)*100)/Total no of points in data\n",
    "But,What if Actual_val==0,than summation will gets false ,To avoid this problem we took average of all actual points and replace Actual_val in denometer of MAPE formulae by this average\n"
   ]
  },
  {
   "cell_type": "code",
   "execution_count": 24,
   "metadata": {},
   "outputs": [
    {
     "name": "stderr",
     "output_type": "stream",
     "text": [
      "100%|██████████| 157200/157200 [00:01<00:00, 127462.09it/s]\n",
      "100%|██████████| 157200/157200 [00:02<00:00, 65528.53it/s]"
     ]
    },
    {
     "name": "stdout",
     "output_type": "stream",
     "text": [
      "12.91202994009687\n"
     ]
    },
    {
     "name": "stderr",
     "output_type": "stream",
     "text": [
      "\n"
     ]
    }
   ],
   "source": [
    "a=0\n",
    "for i in tqdm(range(len(data))):\n",
    "    a+=Act[i]\n",
    "a_dash=a/n\n",
    "abs_err_sum = 0\n",
    "for i in tqdm(range(len(data))):\n",
    "    err = abs(Act[i] - Pred[i])\n",
    "    abs_err_sum += err\n",
    "MAPE=(abs_err_sum * 100)/(a_dash*n)\n",
    "print(\"Mape value is:\",MAPE)   "
   ]
  },
  {
   "cell_type": "markdown",
   "metadata": {},
   "source": [
    "# 3. R^2 error"
   ]
  },
  {
   "cell_type": "markdown",
   "metadata": {},
   "source": [
    "R-squared is a statistical measure of how close the data are to the fitted regression line. It is also known as the coefficient of determination, or the coefficient of multiple determination for multiple regression.\n",
    "\n",
    "The definition of R-squared is fairly straight-forward; it is the percentage of the response variable variation that is explained by a linear model. Or:\n",
    "\n",
    "R-squared = Explained variation / Total variation\n"
   ]
  },
  {
   "cell_type": "code",
   "execution_count": 24,
   "metadata": {},
   "outputs": [
    {
     "name": "stderr",
     "output_type": "stream",
     "text": [
      "100%|██████████| 157200/157200 [00:01<00:00, 128585.79it/s]\n",
      "100%|██████████| 157200/157200 [00:02<00:00, 66145.65it/s]\n",
      "100%|██████████| 157200/157200 [00:04<00:00, 34974.87it/s]"
     ]
    },
    {
     "name": "stdout",
     "output_type": "stream",
     "text": [
      "0.9563582786990964\n"
     ]
    },
    {
     "name": "stderr",
     "output_type": "stream",
     "text": [
      "\n"
     ]
    }
   ],
   "source": [
    "a=0\n",
    "for i in tqdm(range(len(data))):\n",
    "    a+=Act[i]\n",
    "A_dash=a/n\n",
    "SS_tot=0\n",
    "for i in tqdm(range(len(data))):\n",
    "    s=(Act[i]-A_dash)*(Act[i]-A_dash)\n",
    "    SS_tot+=s\n",
    "SS_res=0\n",
    "for i in tqdm(range(len(data))):\n",
    "    s=(Act[i]-Pred[i])*(Act[i]-Pred[i])\n",
    "    SS_res+=s\n",
    "#print(SS_res)\n",
    "A=SS_res/SS_tot\n",
    "R_sqr_err=1-A\n",
    "print(\"Rsquare value is:\",R_sqr_err)\n",
    "    "
   ]
  }
 ],
 "metadata": {
  "colab": {
   "collapsed_sections": [],
   "name": "5_Performance_metrics_Instructions.ipynb",
   "provenance": []
  },
  "kernelspec": {
   "display_name": "Python 3",
   "language": "python",
   "name": "python3"
  },
  "language_info": {
   "codemirror_mode": {
    "name": "ipython",
    "version": 3
   },
   "file_extension": ".py",
   "mimetype": "text/x-python",
   "name": "python",
   "nbconvert_exporter": "python",
   "pygments_lexer": "ipython3",
   "version": "3.6.10"
  }
 },
 "nbformat": 4,
 "nbformat_minor": 1
}
